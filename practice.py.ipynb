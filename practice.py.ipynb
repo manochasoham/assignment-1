{
 "cells": [
  {
   "cell_type": "code",
   "execution_count": 32,
   "metadata": {},
   "outputs": [],
   "source": [
    "dict1={\"dave\":\"001\",\"sam\":\"002\",\"jam\":\"003\",\"dam\":\"004\"}\n",
    "#a=dict1.get(\"dave\")\n",
    "#print(a)\n",
    "#b=dict1.pop(\"dave\")\n",
    "#print(b)\n",
    "#c=dict1.keys()\n",
    "#print(c)\n",
    "#d=dict1.values()\n",
    "#print(d)\n",
    "#e=len(dict1)\n",
    "#print(e)"
   ]
  },
  {
   "cell_type": "code",
   "execution_count": 47,
   "metadata": {},
   "outputs": [
    {
     "name": "stdout",
     "output_type": "stream",
     "text": [
      "None\n",
      "None\n"
     ]
    }
   ],
   "source": [
    "lst=[2,3,4,5,6,7,8,2,3,4,5,6]\n",
    "#a=lst.append(3)\n",
    "#print(a)\n",
    "#b=lst.pop()\n",
    "#print(b)\n",
    "#c=lst.reverse()\n",
    "#print(c)\n",
    "#d=lst.insert(3,55)\n",
    "#print(d)\n",
    "#e=lst.sort()\n",
    "#print(e)\n"
   ]
  },
  {
   "cell_type": "code",
   "execution_count": 42,
   "metadata": {},
   "outputs": [],
   "source": []
  },
  {
   "cell_type": "code",
   "execution_count": null,
   "metadata": {},
   "outputs": [],
   "source": []
  }
 ],
 "metadata": {
  "kernelspec": {
   "display_name": "Python 3",
   "language": "python",
   "name": "python3"
  },
  "language_info": {
   "codemirror_mode": {
    "name": "ipython",
    "version": 3
   },
   "file_extension": ".py",
   "mimetype": "text/x-python",
   "name": "python",
   "nbconvert_exporter": "python",
   "pygments_lexer": "ipython3",
   "version": "3.7.6"
  }
 },
 "nbformat": 4,
 "nbformat_minor": 4
}
